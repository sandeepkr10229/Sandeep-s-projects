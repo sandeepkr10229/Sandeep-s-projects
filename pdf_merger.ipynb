{
  "nbformat": 4,
  "nbformat_minor": 0,
  "metadata": {
    "colab": {
      "provenance": [],
      "authorship_tag": "ABX9TyMLoDmNEXXiXVzWSbrTsoVp",
      "include_colab_link": true
    },
    "kernelspec": {
      "name": "python3",
      "display_name": "Python 3"
    },
    "language_info": {
      "name": "python"
    }
  },
  "cells": [
    {
      "cell_type": "markdown",
      "metadata": {
        "id": "view-in-github",
        "colab_type": "text"
      },
      "source": [
        "<a href=\"https://colab.research.google.com/github/sandeepkr10229/Sandeep-s-projects/blob/main/pdf_merger.ipynb\" target=\"_parent\"><img src=\"https://colab.research.google.com/assets/colab-badge.svg\" alt=\"Open In Colab\"/></a>"
      ]
    },
    {
      "cell_type": "code",
      "execution_count": null,
      "metadata": {
        "colab": {
          "base_uri": "https://localhost:8080/"
        },
        "id": "pI_yjZDO_5tr",
        "outputId": "e499a18a-cd9f-4afe-b530-65dd4726d424"
      },
      "outputs": [
        {
          "output_type": "stream",
          "name": "stdout",
          "text": [
            "Requirement already satisfied: PyPDF2 in /usr/local/lib/python3.11/dist-packages (3.0.1)\n"
          ]
        }
      ],
      "source": [
        "!pip install PyPDF2\n",
        "#pyPDF helps us to read, and manipulate data from pdf"
      ]
    },
    {
      "cell_type": "markdown",
      "source": [],
      "metadata": {
        "id": "Hql9LuK7Glqc"
      }
    },
    {
      "cell_type": "code",
      "source": [
        "import PyPDF2\n",
        "\n",
        "def merge_pdfs(pdf_list, output_path):\n",
        "  pdf_writer = PyPDF2.PdfWriter()\n",
        "  for pdf in pdf_list:\n",
        "    pdf_reader = PyPDF2.PdfReader(pdf)\n",
        "    for page_num in range(len(pdf_reader.pages)):\n",
        "      pdf_writer.add_page(pdf_reader.pages[page_num])\n",
        "\n",
        "  with open (output_path, 'wb') as out:\n",
        "    pdf_writer.write(out)\n",
        "    print(f\"MERGED PDF saved as {output_path}\")\n",
        "\n",
        "\n",
        "#Let's use\n",
        "merge_pdfs([  'mosfet_notes_1.pdf', 'mosfet_notes_2.pdf','mosfet_notes_3.pdf','mosfet_notes_4.pdf', 'mosfet_notes_5.pdf', 'mosfet_notes_6.pdf', ],'mosfet_merged.pdf')\n",
        "\n"
      ],
      "metadata": {
        "colab": {
          "base_uri": "https://localhost:8080/"
        },
        "id": "uIMimZTPAbVc",
        "outputId": "eadb86a0-6d2c-47c6-c856-1812b8f7edbe"
      },
      "execution_count": null,
      "outputs": [
        {
          "output_type": "stream",
          "name": "stdout",
          "text": [
            "MERGED PDF saved as mosfet_merged.pdf\n"
          ]
        }
      ]
    },
    {
      "cell_type": "code",
      "source": [],
      "metadata": {
        "id": "ay1cvwpiEbC2"
      },
      "execution_count": null,
      "outputs": []
    }
  ]
}